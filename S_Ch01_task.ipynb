{
  "cells": [
    {
      "cell_type": "markdown",
      "metadata": {
        "id": "7cqiHxBUWakC"
      },
      "source": [
        "<span style=\"font-size:100%\">\n",
        "\n",
        "수업은 모두 열심히 들으셨나요?\n",
        "\n",
        "간혹 강의에서 언급되지 않은 내용이 문제로 나올 수 있습니다.<br>\n",
        "그럴땐 강의 내용 외 문제는 구글링을 통해 해결해주세요<br></span>\n",
        "<span style=\"font-size:80%\">\n",
        "(구글링 또한 개발자가 갖쳐야할 역량 중에 하나랍니다 😊)\n",
        "</span>\n",
        "\n",
        "---"
      ]
    },
    {
      "cell_type": "markdown",
      "metadata": {
        "id": "pUlCIDygWakD"
      },
      "source": [
        "<span style=\"font-size:80%\">[문제1]<br><br></span>\n",
        "```인터프리트 방식에 대해 설명하고 2개 이상의 장점을 설명해주세요```"
      ]
    },
    {
      "cell_type": "markdown",
      "metadata": {
        "id": "NX0uKX2ZWakD"
      },
      "source": [
        "<span style=\"color:red\">답변</span>"
      ]
    },
    {
      "cell_type": "markdown",
      "metadata": {
        "id": "fk6nxjAdWakE"
      },
      "source": [
        "인터프리트 방식은 프로그램을 실행할 때 인터프리터를 이용하여 코드를 한 줄 씩 읽어나가며 실행하는 방식이다.\n",
        "\n",
        "장점 : 오류 발생시 읽던 부분에서 멈추게 되므로 오류 발견이 쉬운 편이며, 컴파일이라는 과정이 없기 때문에 오류에 대한 수정도 빠른 편이다."
      ]
    },
    {
      "cell_type": "markdown",
      "metadata": {
        "id": "tupcEKq9WakE"
      },
      "source": [
        "---"
      ]
    },
    {
      "cell_type": "markdown",
      "metadata": {
        "id": "Y8Ajf4hGWakE"
      },
      "source": [
        "<span style=\"font-size:80%\">[문제2]<br><br></span>\n",
        "```동적 타입 방식의 장점과 단점을 간략히 설명해주세요```"
      ]
    },
    {
      "cell_type": "markdown",
      "metadata": {
        "id": "b2n0WMyEWakE"
      },
      "source": [
        "<span style=\"color:red\">답변</span>"
      ]
    },
    {
      "cell_type": "markdown",
      "metadata": {
        "id": "AOKJP5mAWakE"
      },
      "source": [
        "장점 : 코드 작성 시 타임(용도)에 제한이 없기 때문에 유연성이 높고 효율적임\n",
        "\n",
        "단점 : 프로그램 실행때 타입(용도)에 문제를 확인 할 수 있기 때문에 코드가 길고 복잡할 경우 문제 해결이 쉽지 않음"
      ]
    },
    {
      "cell_type": "markdown",
      "metadata": {
        "id": "nqr0bxWdWakE"
      },
      "source": [
        "---"
      ]
    },
    {
      "cell_type": "markdown",
      "metadata": {
        "id": "sI3BQ_93WakF"
      },
      "source": [
        "<span style=\"font-size:80%\">[문제3]<br><br></span>\n",
        "```Python으로 정적타입 방식의 코드를 작성할 수 있는 방법을 구글링을 통해 검색 후 설명해주세요```"
      ]
    },
    {
      "cell_type": "markdown",
      "metadata": {
        "id": "kS5PH4beWakF"
      },
      "source": [
        "<span style=\"color:red\">답변</span>"
      ]
    },
    {
      "cell_type": "markdown",
      "metadata": {
        "id": "4NXPuFxhWakF"
      },
      "source": [
        "###명령어를 이용한 방법\n",
        "1. type hints 명령어를 사용하여 변수, 함수 인자 및 반환값 등에 타입을 명시할 수 있다.\n",
        "\n",
        "def add(x: int, y: int) -> int:\n",
        "    return x + y\n",
        "\n",
        "name: str = \"Alice\"\n",
        "age: int = 30\n",
        "\n",
        "2. mypy 타입 검사\n",
        "type hint 작성 후 mypy라는 정적 타입 검사 도구를 사용하여 실제 타입이 맞는지 검사할 수 있다.\n",
        "\n",
        "pip install mypy\n",
        "\n",
        "mypy your_script.py\n",
        "\n",
        "### 도구를 사용한 방법\n",
        "- pyright : 빠르고 가벼운 타입 검사기\n",
        "- pylance : vs code에서 사용하는 고성능 언어 서버\n",
        "\n",
        "이 도구들을 사용하여 에디터에서 실시간으로 타입 오류를 확인 할 수 있다."
      ]
    },
    {
      "cell_type": "markdown",
      "metadata": {
        "id": "67k0meojWakF"
      },
      "source": [
        "---"
      ]
    },
    {
      "cell_type": "markdown",
      "metadata": {
        "id": "do6HlJYoWakF"
      },
      "source": [
        "<span style=\"font-size:80%\">[문제4]<br><br></span>\n",
        "```프로세스와 스레드의 차이점을 설명해주세요```"
      ]
    },
    {
      "cell_type": "markdown",
      "metadata": {
        "id": "cKBTE0mjWakF"
      },
      "source": [
        "<span style=\"color:red\">답변</span>"
      ]
    },
    {
      "cell_type": "markdown",
      "metadata": {
        "id": "7Ud4sJhYWakF"
      },
      "source": [
        "###프로세스란\n",
        "\n",
        "운영체제로부터 자원을 할당받은 작업의 단위\n",
        "\n",
        "###스레드란\n",
        "\n",
        "프로세스가 할당받은 자원을 이용하는 실행 흐름의 단위\n",
        "\n",
        "프로세스와 스레드는 독립적인 실행 순서이지만 프로세스가 서로 다른 메모리 공간에서 실행되는 반면 동일한 프로세스의 스레드는 공유 메모리 공간에서 실행된다는 점에서 차이가 있다."
      ]
    },
    {
      "cell_type": "markdown",
      "metadata": {
        "id": "S-NeMXjhWakF"
      },
      "source": [
        "---"
      ]
    },
    {
      "cell_type": "markdown",
      "metadata": {
        "id": "zWz29pzkWakF"
      },
      "source": [
        "<span style=\"font-size:80%\">[문제5]<br><br></span>\n",
        "```Python 2버전대와 3버전대의 차이를 성명해주세요```"
      ]
    },
    {
      "cell_type": "markdown",
      "metadata": {
        "id": "s75NbF_oWakF"
      },
      "source": [
        "<span style=\"color:red\">답변</span>"
      ]
    },
    {
      "cell_type": "markdown",
      "metadata": {
        "id": "D0_D2kSwWakF"
      },
      "source": [
        "주된 차이점은 유니코드 기본 지원과 함수형 출력 등 python3이 더 효율적으로 업데이트 됐다고 볼 수 있다.\n",
        "\n",
        "1. 출력 함수 (print)의 문법\n",
        "-python 2 : print \"Hello, world\"\n",
        "\n",
        "-python 3 : print(\"Hello, world\")\n",
        "\n",
        "(print는 함수로 변경되어 괄호가 필수)\n",
        "\n",
        "2. 문자열 처리 방식\n",
        "-python 2 : 기본 문자열은 ASCII, 유니코드를 사용할 때는 u\"문자열\" 형식 사용\n",
        "\n",
        "-python 3 : 기본 문자열이 유니코드\n",
        "\n",
        "3. 나눗셈 연산자 /\n",
        "-python 2 : 정수끼리 나누면 정수 나눗셈 결과\n",
        "\n",
        "ex) 5/2 -> 2\n",
        "\n",
        "-python 3 : 정수끼리 나눠도 실수 결과\n",
        "\n",
        "ex) 5/2 -> 2.5"
      ]
    },
    {
      "cell_type": "markdown",
      "metadata": {
        "id": "akrOePdQWakF"
      },
      "source": [
        "---"
      ]
    },
    {
      "cell_type": "markdown",
      "metadata": {
        "id": "hnh5GRMSWakG"
      },
      "source": [
        "<span style=\"font-size:80%\">[문제6]<br><br></span>\n",
        "```Python에서 메모리 관리는 어떻게 이루어지는지 설명해주세요```"
      ]
    },
    {
      "cell_type": "markdown",
      "metadata": {
        "id": "9k5qqy5rWakG"
      },
      "source": [
        "<span style=\"color:red\">답변</span>"
      ]
    },
    {
      "cell_type": "markdown",
      "metadata": {
        "id": "Q7JNCJBAWakG"
      },
      "source": [
        "파이썬은 개발자가 직접 메모리를 관리하는 대신 언어 자체가 대부분의 메모리를 관리해 따로 처리할 필요가 없긴 하나, 코드가 길어지거나 다루는 데이터가 방대하거나 메모리 자원이 한정적일 때 파이썬에서도 메모리 사용을 최적화해주는 것이 필요하다.\n",
        "\n",
        "1. 사용하지 않는 객체 dealloc\n",
        "\n",
        "사용하지 않는 객체를 삭제하는 del 키워드\n",
        "\n",
        "a = [1, 2, 3, 4, 5, ...., 100000000]\n",
        "\n",
        "* 객체 삭제\n",
        "\n",
        " del a\n",
        "\n",
        " 2. 제너레이터 사용\n",
        "\n",
        " 필요할 때만 데이터를 생성해 한번에 하나의 항목만 메모리에 유지해 메모리를 절약\n",
        "\n",
        "리스트 사용\n",
        "\n",
        "numbers_list = [i for i in range(1000000)]\n",
        "\n",
        "제너레이터 사용\n",
        "\n",
        "numbers_generator = (i for i in range(1000000))\n",
        "\n",
        "3. 가비지 컬렉션\n",
        "\n",
        "프로그램이 동적으로 할당했지만 더 이상 사용하지 않는 메모리를 자동으로 회수하는 프로그램\n",
        "\n",
        "import gc\n",
        "\n",
        "가비지 컬렉션 강제 실행\n",
        "\n",
        "gc.collect()\n"
      ]
    }
  ],
  "metadata": {
    "language_info": {
      "name": "python"
    },
    "colab": {
      "provenance": []
    }
  },
  "nbformat": 4,
  "nbformat_minor": 0
}