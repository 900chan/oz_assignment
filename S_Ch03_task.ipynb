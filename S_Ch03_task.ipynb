{
  "cells": [
    {
      "cell_type": "markdown",
      "metadata": {
        "id": "68jS4EkNgdUJ"
      },
      "source": [
        "<span style=\"font-size:100%\">\n",
        "\n",
        "수업은 모두 열심히 들으셨나요?\n",
        "\n",
        "간혹 강의에서 언급되지 않은 내용이 문제로 나올 수 있습니다.<br>\n",
        "그럴땐 강의 내용 외 문제는 구글링을 통해 해결해주세요<br></span>\n",
        "<span style=\"font-size:80%\">\n",
        "(구글링 또한 개발자가 갖쳐야할 역량 중에 하나랍니다 😊)\n",
        "</span>\n",
        "\n",
        "---"
      ]
    },
    {
      "cell_type": "markdown",
      "metadata": {
        "id": "gWl2Hrx-gdUL"
      },
      "source": [
        "<span style=\"font-size:80%\">[문제1]<br><br></span>\n",
        "```주로 작성 중인 코드의 끝을 알리는 기호로 사용되며 파이썬에서 한 줄에 작성된 서로 다른 코드를 구분 지을 때 사용할 수 있는 기호를 골라주세요```\n",
        "\n",
        "1. ' , ' (쉼표)\n",
        "2. ' + ' (더하기 기호)\n",
        "3. ' ; ' (세미콜론)\n",
        "4. ' / ' (슬래시)"
      ]
    },
    {
      "cell_type": "markdown",
      "metadata": {
        "id": "6xVoED5EgdUM"
      },
      "source": [
        "<span style=\"color:red\">답변</span> :"
      ]
    },
    {
      "cell_type": "markdown",
      "metadata": {
        "id": "PWnhzZU0gdUN"
      },
      "source": [
        "3. ';' (세미콜론)"
      ]
    },
    {
      "cell_type": "markdown",
      "metadata": {
        "id": "ADqOaWvogdUN"
      },
      "source": [
        "----"
      ]
    },
    {
      "cell_type": "markdown",
      "metadata": {
        "id": "mmfZe3FTgdUN"
      },
      "source": [
        "<span style=\"font-size:80%\">[문제2]<br><br></span>\n",
        "```Python의 PEP 8은 무엇인지 설명하고 PEP 8의 핵심적인 규칙을 1개 이상을 설명해주세요```"
      ]
    },
    {
      "cell_type": "markdown",
      "metadata": {
        "id": "THcHcDCFgdUO"
      },
      "source": [
        "<span style=\"color:red\">답변</span>"
      ]
    },
    {
      "cell_type": "markdown",
      "metadata": {
        "id": "vPmbkE0bgdUP"
      },
      "source": [
        "파이썬 코드 작성 가이드라인으로, 파이썬 프로그래밍 언어의 표준 코딩 스타일을 정의한 문서이다. pep 8을 따르면 코드의 가독성과 유지보수성을 높일 수 있다.\n",
        "\n",
        "들여쓰기 - 공백 4칸 사용\n",
        "\n",
        "줄바꿈 - 한 줄은 최대 79자까지만 작성\n",
        "\n",
        "주석 - 함수의 역할과 인자, 반환값에 대한 설명은 여러 줄 주석으로 작성\n",
        "\n",
        "변수명과 함수명 - 소문자로 작성, 단어 사이는 밑줄로 구분\n",
        "\n",
        "구분 - 함수와 클래스, 함수 내의 큰 코드 블록 사이에는 빈 줄을 두 개 사용하여 구분"
      ]
    },
    {
      "cell_type": "markdown",
      "metadata": {
        "id": "iIN4xDPtgdUP"
      },
      "source": [
        "----"
      ]
    },
    {
      "cell_type": "markdown",
      "metadata": {
        "id": "07KBaW6wgdUQ"
      },
      "source": [
        "<span style=\"font-size:80%\">[문제3]<br><br></span>\n",
        "```Python에서 \"#\"이 의마하는 것은 무엇인지 설명해주세요```"
      ]
    },
    {
      "cell_type": "markdown",
      "metadata": {
        "id": "j0ou6XkJgdUQ"
      },
      "source": [
        "<span style=\"color:red\">답변</span>"
      ]
    },
    {
      "cell_type": "markdown",
      "metadata": {
        "id": "T0DSuSmhgdUR"
      },
      "source": [
        "주석으로 작성된 내용은 컴퓨터는 볼 수 없고 우리만 볼 수 있게 처리하는 언어이다."
      ]
    },
    {
      "cell_type": "markdown",
      "metadata": {
        "id": "WmmG8rTIgdUR"
      },
      "source": [
        "----"
      ]
    },
    {
      "cell_type": "markdown",
      "metadata": {
        "id": "mFeuMs8PgdUR"
      },
      "source": [
        "<span style=\"font-size:80%\">[문제4]<br><br></span>\n",
        "```Python의 들여쓰기 장점과 기능에 대해 설명해주세요```"
      ]
    },
    {
      "cell_type": "markdown",
      "metadata": {
        "id": "HhUHjWl4gdUR"
      },
      "source": [
        "<span style=\"color:red\">답변</span>"
      ]
    },
    {
      "cell_type": "markdown",
      "metadata": {
        "id": "zw6ywYPbgdUR"
      },
      "source": [
        "장점\n",
        "\n",
        "*   코드 블록을 구분하여 코드의 구조를 시각적으로 쉽게 파악\n",
        "*   코드의 흐름 파악하기 쉬움\n",
        "\n",
        "\n",
        "기능\n",
        "\n",
        "가독성 향상, 유지 보수성, 오류 방지"
      ]
    },
    {
      "cell_type": "markdown",
      "metadata": {
        "id": "Jl2-DATbgdUR"
      },
      "source": [
        "----"
      ]
    },
    {
      "cell_type": "markdown",
      "metadata": {
        "id": "TDB5n1rOgdUR"
      },
      "source": [
        "<span style=\"font-size:80%\">[문제5]<br><br></span>\n",
        "```print( )문의 기능 및 특징에 대해 설명해주세요```"
      ]
    },
    {
      "cell_type": "markdown",
      "metadata": {
        "id": "nNHT2fYXgdUR"
      },
      "source": [
        "<span style=\"color:red\">답변</span>"
      ]
    },
    {
      "cell_type": "markdown",
      "metadata": {
        "id": "YduRyszjgdUS"
      },
      "source": [
        "기능\n",
        "\n",
        "화면의 텍스트나 변수의 값을 출력하는 내장 함수\n",
        "\n",
        "특징\n",
        "\n",
        "* 다른 모듈을 활용하지 않아도 사용 가능\n",
        "* 콘솔이나 터미널 창에 원하는 내용 표시 가능"
      ]
    }
  ],
  "metadata": {
    "language_info": {
      "name": "python"
    },
    "colab": {
      "provenance": []
    }
  },
  "nbformat": 4,
  "nbformat_minor": 0
}